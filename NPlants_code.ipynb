{
 "cells": [
  {
   "cell_type": "markdown",
   "id": "0d5eb1cd",
   "metadata": {},
   "source": [
    "## Python kernal"
   ]
  },
  {
   "cell_type": "markdown",
   "id": "ddff67ad",
   "metadata": {},
   "source": [
    "## Trim"
   ]
  },
  {
   "cell_type": "code",
   "execution_count": null,
   "id": "f32de633",
   "metadata": {},
   "outputs": [],
   "source": [
    "import glob\n",
    "for i in glob.glob(\"reads/leaf_tissue/raw/*_1.fq.gz\"):\n",
    "    o = i.split(\"_1.fq.gz\")[0]+\"_2.fq.gz\"\n",
    "    !trim_galore -o reads/leaf_tissue/processed/ -j 8 --paired {i} {o}"
   ]
  },
  {
   "cell_type": "markdown",
   "id": "e3dbf057",
   "metadata": {},
   "source": [
    "## Align"
   ]
  },
  {
   "cell_type": "code",
   "execution_count": null,
   "id": "4c1aa767",
   "metadata": {},
   "outputs": [],
   "source": [
    "!kallisto index -i ref/GCF_007990345.1_Gossypium_hirsutum_v2.1_rna_cotton.idx ref/GCF_007990345.1_Gossypium_hirsutum_v2.1_rna_cotton.fna"
   ]
  },
  {
   "cell_type": "code",
   "execution_count": null,
   "id": "0bef9a54",
   "metadata": {},
   "outputs": [],
   "source": [
    "import glob\n",
    "cotton = {\"R1\",\"R2\",\"R3\",\"R4\",\"R5\",\"R6\",\"R7\",\"R8\",\"R9\",\"R10\",\"R11\",\"R12\"}\n",
    "for i in glob.glob(\"reads/leaf_tissue/processed/*_1.fq.gz\"):\n",
    "    f = i.split(\"/\")[-1].split(\"-\")[0]\n",
    "    o = i.split(\"1_val_1.fq.gz\")[0]+\"2_val_2.fq.gz\"\n",
    "    if f in cotton:\n",
    "        print(\"cotton\", f)\n",
    "        !kallisto quant -t 16 -i ref/GCF_007990345.1_Gossypium_hirsutum_v2.1_rna_cotton.idx -b 100 -o aligned/cotton/{f} {i} {o}"
   ]
  },
  {
   "cell_type": "markdown",
   "id": "fe2a717a",
   "metadata": {},
   "source": [
    "## R kernal"
   ]
  },
  {
   "cell_type": "code",
   "execution_count": null,
   "id": "a4b1cdbb",
   "metadata": {},
   "outputs": [],
   "source": [
    "library(\"tximport\")\n",
    "library(\"readr\")\n",
    "library(\"tximportData\")\n",
    "library(\"DESeq2\")\n",
    "library(\"pheatmap\")\n",
    "library(\"ggplot2\")"
   ]
  },
  {
   "cell_type": "markdown",
   "id": "af052cf0",
   "metadata": {},
   "source": [
    "## Expression analysis"
   ]
  },
  {
   "cell_type": "code",
   "execution_count": null,
   "id": "6a99dd6e",
   "metadata": {},
   "outputs": [],
   "source": [
    "sample_id = dir(file.path(\"aligned\", \"cotton\"))\n",
    "kal_dirs = file.path(\"aligned\", \"cotton\", sample_id)\n",
    "files = file.path(\"aligned/cotton\", sample_id, \"abundance.h5\")\n",
    "names(files) = sample_id\n",
    "txi.kallisto <- tximport(files, type = \"kallisto\", txOut = TRUE)\n",
    "samples = read.table(\"aligned/cotton_one_factor.txt\", header=TRUE)\n",
    "rownames(samples) = samples$Sample\n",
    "ddsTxi = DESeqDataSetFromTximport(txi.kallisto,\n",
    "                                   colData = samples,\n",
    "                                   design = ~treatment)\n",
    "keep = rowSums(counts(ddsTxi)) >= 10\n",
    "dds = ddsTxi[keep,]\n",
    "dds$treatment <- relevel(dds$treatment, ref = \"water\")\n",
    "dds = DESeq(dds)"
   ]
  },
  {
   "cell_type": "markdown",
   "id": "09937fc4",
   "metadata": {},
   "source": [
    "### BioClay vs. water"
   ]
  },
  {
   "cell_type": "code",
   "execution_count": null,
   "id": "065e084c",
   "metadata": {},
   "outputs": [],
   "source": [
    "res05 = results(dds, contrast=c(\"treatment\",\"BioClay\",\"water\"), alpha=0.05)\n",
    "resOrdered = res05[order(res05$pvalue),]\n",
    "resSig = subset(resOrdered, padj < 0.05)\n",
    "write.csv(as.data.frame(resSig), \n",
    "          file=\"treatment_BioClay_vs_water.csv\")\n",
    "rld = rlog(dds, blind=FALSE)\n",
    "options(repr.plot.width=7, repr.plot.height=7)\n",
    "select_genes<-rownames(resOrdered[1:50,])\n",
    "pheatmap(assay(rld)[ select_genes,],\n",
    "         cluster_rows=T, \n",
    "         fontsize = 15, \n",
    "         filename = \"bioclay_heatmap.png\", \n",
    "         width=10, \n",
    "         height = 10.5)"
   ]
  },
  {
   "cell_type": "markdown",
   "id": "e2260e2c",
   "metadata": {},
   "source": [
    "### LDH vs. water"
   ]
  },
  {
   "cell_type": "code",
   "execution_count": null,
   "id": "3b293f13",
   "metadata": {},
   "outputs": [],
   "source": [
    "res05 = results(dds, contrast=c(\"treatment\",\"LDH\",\"water\"), alpha=0.05)\n",
    "resOrdered = res05[order(res05$pvalue),]\n",
    "resSig = subset(resOrdered, padj < 0.05)\n",
    "write.csv(as.data.frame(resSig), \n",
    "          file=\"treatment_LDH_vs_water.csv\")\n",
    "rld = rlog(dds, blind=FALSE)\n",
    "options(repr.plot.width=7, repr.plot.height=7)\n",
    "select_genes<-rownames(resOrdered[1:50,])\n",
    "pheatmap(assay(rld)[ select_genes,],\n",
    "         cluster_rows=T, \n",
    "         fontsize = 15, \n",
    "         filename = \"ldh_heatmap.png\", \n",
    "         width=10, \n",
    "         height = 10.5)"
   ]
  },
  {
   "cell_type": "markdown",
   "id": "60043694",
   "metadata": {},
   "source": [
    "### Naked vs. water"
   ]
  },
  {
   "cell_type": "code",
   "execution_count": null,
   "id": "6dbade11",
   "metadata": {},
   "outputs": [],
   "source": [
    "res05 = results(dds, contrast=c(\"treatment\",\"naked_dsRNA\",\"water\"), alpha=0.05)\n",
    "resOrdered = res05[order(res05$pvalue),]\n",
    "resSig = subset(resOrdered, padj < 0.05)\n",
    "write.csv(as.data.frame(resSig), \n",
    "          file=\"treatment_naked_dsRNA_vs_water.csv\")\n",
    "rld = rlog(dds, blind=FALSE)\n",
    "options(repr.plot.width=7, repr.plot.height=7)\n",
    "select_genes<-rownames(resOrdered[1:50,])\n",
    "pheatmap(assay(rld)[ select_genes,],\n",
    "         cluster_rows=T, \n",
    "         fontsize = 15, \n",
    "         filename = \"naked_heatmap.png\", \n",
    "         width=10, \n",
    "         height = 10.5)"
   ]
  },
  {
   "cell_type": "markdown",
   "id": "7812fc1e",
   "metadata": {},
   "source": [
    "## PCA plot"
   ]
  },
  {
   "cell_type": "code",
   "execution_count": null,
   "id": "c131bf0b",
   "metadata": {},
   "outputs": [],
   "source": [
    "vsd = vst(dds, blind=FALSE)\n",
    "pcaData = plotPCA(vsd, intgroup=c(\"treatment\"), returnData=TRUE)\n",
    "percentVar = round(100 * attr(pcaData, \"percentVar\"))\n",
    "ggplot(pcaData, aes(PC1, PC2, color=treatment)) +\n",
    "  geom_point(size=3) +\n",
    "  xlab(paste0(\"PC1: \",percentVar[1],\"% variance\")) +\n",
    "  ylab(paste0(\"PC2: \",percentVar[2],\"% variance\")) + \n",
    "  coord_fixed() + theme(text = element_text(size = 17)) \n",
    "ggsave(\"pca.png\", width = 7, height = 7)"
   ]
  },
  {
   "cell_type": "markdown",
   "id": "982bd719",
   "metadata": {},
   "source": [
    "## Python kernal"
   ]
  },
  {
   "cell_type": "markdown",
   "id": "a7da4077",
   "metadata": {},
   "source": [
    "## Counts - upreg"
   ]
  },
  {
   "cell_type": "code",
   "execution_count": null,
   "id": "d1fc8fd8",
   "metadata": {},
   "outputs": [],
   "source": [
    "import csv\n",
    "first = True\n",
    "naked_upreg = set()\n",
    "naked_downreg = set()\n",
    "with open('treatment_naked_dsRNA_vs_water.csv', newline='') as csvfile:\n",
    "    r = csv.reader(csvfile)\n",
    "    for row in r:\n",
    "        if first:\n",
    "            first=False\n",
    "        else:\n",
    "            if float(row[2]) > 1:\n",
    "                naked_upreg.add(row[0])\n",
    "            elif float(row[2]) < 1:\n",
    "                naked_downreg.add(row[0])\n",
    "first = True\n",
    "bioclay_upreg = set()\n",
    "bioclay_downreg = set()\n",
    "with open('treatment_BioClay_vs_water.csv', newline='') as csvfile:\n",
    "    r = csv.reader(csvfile)\n",
    "    for row in r:\n",
    "        if first:\n",
    "            first=False\n",
    "        else:\n",
    "            if float(row[2]) > 1:\n",
    "                bioclay_upreg.add(row[0])\n",
    "            elif float(row[2]) < 1:\n",
    "                bioclay_downreg.add(row[0])\n",
    "first = True\n",
    "ldh_upreg = set()\n",
    "ldh_downreg = set()\n",
    "with open('treatment_LDH_vs_water.csv', newline='') as csvfile:\n",
    "    r = csv.reader(csvfile)\n",
    "    for row in r:\n",
    "        if first:\n",
    "            first=False\n",
    "        else:\n",
    "            if float(row[2]) > 1:\n",
    "                ldh_upreg.add(row[0])\n",
    "            elif float(row[2]) < 1:\n",
    "                ldh_downreg.add(row[0])"
   ]
  },
  {
   "cell_type": "code",
   "execution_count": null,
   "id": "205f0afb",
   "metadata": {},
   "outputs": [],
   "source": [
    "bc_ldh_upreg = bioclay_upreg.intersection(ldh_upreg)\n",
    "all_upreg = bc_ldh_upreg.intersection(naked_upreg)\n",
    "bc_ldh_only = bc_ldh_upreg - all_upreg\n",
    "bc_naked_upreg = bioclay_upreg.intersection(naked_upreg)\n",
    "bc_naked_only = bc_naked_upreg - all_upreg\n",
    "ldh_naked_upreg = ldh_upreg.intersection(naked_upreg)\n",
    "ldh_naked_only = ldh_naked_upreg - all_upreg\n",
    "ldh_only = ldh_upreg - all_upreg - bc_ldh_only - ldh_naked_only\n",
    "bc_only = bioclay_upreg - all_upreg - bc_ldh_only - bc_naked_only\n",
    "naked_only = naked_upreg - all_upreg - bc_naked_only - ldh_naked_only"
   ]
  },
  {
   "cell_type": "markdown",
   "id": "837d620b",
   "metadata": {},
   "source": [
    "## Check function of LDH intersect BioClay upreg transcripts"
   ]
  },
  {
   "cell_type": "code",
   "execution_count": null,
   "id": "6edd5d21",
   "metadata": {},
   "outputs": [],
   "source": [
    "a = RefSeq()\n",
    "a.load_ref_file(\"ref/GCF_007990345.1_Gossypium_hirsutum_v2.1_rna_cotton.fna\")\n",
    "for i in a.keys():\n",
    "    if i.split()[0] in bc_ldh_only:\n",
    "        print(\"{0} - {1}\".format(i.split()[0], i.split(\"PREDICTED: Gossypium hirsutum \")[1]))"
   ]
  },
  {
   "cell_type": "markdown",
   "id": "bf6d98a9",
   "metadata": {},
   "source": [
    "## Counts - downreg"
   ]
  },
  {
   "cell_type": "code",
   "execution_count": null,
   "id": "bbdb7404",
   "metadata": {},
   "outputs": [],
   "source": [
    "first = True\n",
    "naked_upreg = set()\n",
    "naked_downreg = set()\n",
    "with open('treatment_naked_dsRNA_vs_water.csv', newline='') as csvfile:\n",
    "    r = csv.reader(csvfile)\n",
    "    for row in r:\n",
    "        if first:\n",
    "            first=False\n",
    "        else:\n",
    "            if float(row[2]) > 1:\n",
    "                naked_upreg.add(row[0])\n",
    "            elif float(row[2]) < 1:\n",
    "                naked_downreg.add(row[0])\n",
    "first = True\n",
    "bioclay_upreg = set()\n",
    "bioclay_downreg = set()\n",
    "with open('treatment_BioClay_vs_water.csv', newline='') as csvfile:\n",
    "    r = csv.reader(csvfile)\n",
    "    for row in r:\n",
    "        if first:\n",
    "            first=False\n",
    "        else:\n",
    "            if float(row[2]) > 1:\n",
    "                bioclay_upreg.add(row[0])\n",
    "            elif float(row[2]) < 1:\n",
    "                bioclay_downreg.add(row[0])\n",
    "first = True\n",
    "ldh_upreg = set()\n",
    "ldh_downreg = set()\n",
    "with open('treatment_LDH_vs_water.csv', newline='') as csvfile:\n",
    "    r = csv.reader(csvfile)\n",
    "    for row in r:\n",
    "        if first:\n",
    "            first=False\n",
    "        else:\n",
    "            if float(row[2]) > 1:\n",
    "                ldh_upreg.add(row[0])\n",
    "            elif float(row[2]) < 1:\n",
    "                ldh_downreg.add(row[0])"
   ]
  },
  {
   "cell_type": "code",
   "execution_count": null,
   "id": "db6d1255",
   "metadata": {},
   "outputs": [],
   "source": [
    "bc_ldh_downreg = bioclay_downreg.intersection(ldh_downreg)\n",
    "all_downreg = bc_ldh_downreg.intersection(naked_downreg)\n",
    "bc_ldh_only = bc_ldh_downreg - all_downreg\n",
    "bc_naked_downreg = bioclay_downreg.intersection(naked_downreg)\n",
    "bc_naked_only = bc_naked_downreg - all_downreg\n",
    "ldh_naked_downreg = ldh_downreg.intersection(naked_downreg)\n",
    "ldh_naked_only = ldh_naked_downreg - all_downreg\n",
    "all_downreg = ldh_naked_downreg.intersection(bioclay_downreg)\n",
    "ldh_only = ldh_downreg - all_downreg - bc_ldh_only - ldh_naked_only\n",
    "bc_only = bioclay_downreg - all_downreg - bc_ldh_only - bc_naked_only\n",
    "naked_only = naked_downreg - all_downreg - bc_naked_only - ldh_naked_only"
   ]
  },
  {
   "cell_type": "code",
   "execution_count": null,
   "id": "c30dcfa5",
   "metadata": {},
   "outputs": [],
   "source": [
    "for i in a.keys():\n",
    "    if i.split()[0] in bc_ldh_only:\n",
    "        print(\"{0} - {1}\".format(i.split()[0], i.split(\"PREDICTED: Gossypium hirsutum \")[1]))"
   ]
  },
  {
   "cell_type": "markdown",
   "id": "e64d0090",
   "metadata": {},
   "source": [
    "## R kernal"
   ]
  },
  {
   "cell_type": "markdown",
   "id": "18d37341",
   "metadata": {},
   "source": [
    "## Euler plots"
   ]
  },
  {
   "cell_type": "code",
   "execution_count": null,
   "id": "f02ae116",
   "metadata": {},
   "outputs": [],
   "source": [
    "library(eulerr)\n",
    "fit1 = euler(c(\"LDH\" = 40, \n",
    "               \"Naked\" = 28, \n",
    "               \"BioClay\" = 36,\n",
    "               \"LDH&Naked\" = 23,\n",
    "               \"LDH&BioClay\" = 24,\n",
    "               \"Naked&BioClay\" = 29,\n",
    "               \"LDH&Naked&BioClay\" = 102\n",
    "              ),shape=\"ellipse\")\n",
    "png(file=\"upregreg_eular.png\")\n",
    "plot(fit1,\n",
    "     quantities = list(font = 4, fontsize=15),\n",
    "     lty = 1:3,\n",
    "     labels = list(font = 4, fontsize=15))\n",
    "dev.off()"
   ]
  },
  {
   "cell_type": "code",
   "execution_count": null,
   "id": "2cd8f138",
   "metadata": {},
   "outputs": [],
   "source": [
    "library(eulerr)\n",
    "fit1 = euler(c(\"LDH\" = 121, \n",
    "               \"Naked\" = 154, \n",
    "               \"BioClay\" = 207,\n",
    "               \"LDH&Naked\" = 9,\n",
    "               \"LDH&BioClay\" = 7,\n",
    "               \"Naked&BioClay\" = 17,\n",
    "               \"LDH&Naked&BioClay\" = 1\n",
    "              ), shape=\"ellipse\")\n",
    "png(file=\"downreg_eular.png\")\n",
    "plot(fit1,\n",
    "     quantities = list(font = 4, fontsize=15),\n",
    "     lty = 1:3,\n",
    "     labels = list(font = 4, fontsize=15),\n",
    "    )\n",
    "dev.off()"
   ]
  },
  {
   "cell_type": "markdown",
   "id": "ed1878db",
   "metadata": {},
   "source": [
    "## Python kernal"
   ]
  },
  {
   "cell_type": "markdown",
   "id": "13c2810d",
   "metadata": {},
   "source": [
    "## Revigo plot"
   ]
  },
  {
   "cell_type": "code",
   "execution_count": null,
   "id": "5beb9dfc",
   "metadata": {},
   "outputs": [],
   "source": [
    "import scipy as sp\n",
    "import matplotlib.pyplot as plt\n",
    "import seaborn as sns\n",
    "%matplotlib inline\n",
    "\n",
    "sns.set(rc={'figure.figsize':(6,6)}, style=\"white\")\n",
    "sns.scatterplot(data=df, x=\"plot_X\", y=\"plot_Y\", size=\"Mortality\", hue=\"Group\", alpha=0.8, sizes=(40,800), palette=\"bright\", linewidth = 1)\n",
    "lgd=plt.legend(bbox_to_anchor=(1.05, 1), loc=2, borderaxespad=0., frameon=False)\n",
    "plt.savefig('revego.pdf', bbox_extra_artists=(lgd,), bbox_inches='tight')"
   ]
  }
 ],
 "metadata": {
  "kernelspec": {
   "display_name": "Python 3 (ipykernel)",
   "language": "python",
   "name": "python3"
  },
  "language_info": {
   "codemirror_mode": {
    "name": "ipython",
    "version": 3
   },
   "file_extension": ".py",
   "mimetype": "text/x-python",
   "name": "python",
   "nbconvert_exporter": "python",
   "pygments_lexer": "ipython3",
   "version": "3.9.7"
  }
 },
 "nbformat": 4,
 "nbformat_minor": 5
}
